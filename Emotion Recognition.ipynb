{
 "cells": [
  {
   "cell_type": "markdown",
   "metadata": {},
   "source": [
    "#                            EMOTION RECOGNITION USING SPEECH"
   ]
  },
  {
   "cell_type": "markdown",
   "metadata": {},
   "source": [
    "## Introduction"
   ]
  },
  {
   "cell_type": "markdown",
   "metadata": {},
   "source": [
    "The bottom line objective of this project is to classify the emotions of people with the help of speech. \n",
    "Speech is the most natural way of expressing ourselves as humans. This is capitalizing on the fact that voice often reflects underlying emotion through tone and pitch. This is also the phenomenon that animals like dogs and horses employ to be able to understand human emotion."
   ]
  },
  {
   "cell_type": "markdown",
   "metadata": {},
   "source": [
    "## Librosa"
   ]
  },
  {
   "cell_type": "markdown",
   "metadata": {},
   "source": [
    "The most important python library which is used for the whole project is Librosa. It is used for analyzing audio and music. It has a flatter package layout, standardizes interfaces and names, backwards compatibility, modular functions, and readable code"
   ]
  },
  {
   "cell_type": "markdown",
   "metadata": {},
   "source": [
    "## Dataset "
   ]
  },
  {
   "cell_type": "markdown",
   "metadata": {},
   "source": [
    "The dataset used for this project is RAVDESS. this is the Ryerson Audio-Visual Database of Emotional Speech and Song dataset, and is free to download. This dataset has 7356 files rated by 247 individuals 10 times on emotional validity, intensity, and genuineness.<br>\n",
    "In the RAVDESS, there are two types of data: speech and song.<br>\n",
    "The database contains 24 professional actors (12 female, 12 male), vocalizing two lexically-matched statements in a neutral    North American accent. Speech includes calm, happy, sad, angry, fearful, surprise, and disgust expressions, and song contains calm, happy, sad, angry, and fearful emotions. Each expression is produced at two levels of emotional intensity (normal, strong), with an additional neutral expression.<br>\n",
    "Here, we are using only the speech data and you can download the dataset from this link https://zenodo.org/record/1188976#.XwTpxShKjIV. The zip file used in this project is 'Audio_Speech_Actors_01-24.zip'.<br> \n",
    "The files in this dataset follow a particular convention which itself labels the data.\n",
    "\n",
    "### Filename identifiers \n",
    "\n",
    "1. Modality (01 = full-AV, 02 = video-only, 03 = audio-only)\n",
    "2. Vocal channel (01 = speech, 02 = song).\n",
    "3. Emotion (01 = neutral, 02 = calm, 03 = happy, 04 = sad, 05 = angry, 06 = fearful, 07 = disgust, 08 = surprised).\n",
    "4. Emotional intensity (01 = normal, 02 = strong). \n",
    "5. Statement (01 = \"Kids are talking by the door\", 02 = \"Dogs are sitting by the door\").\n",
    "6. Repetition (01 = 1st repetition, 02 = 2nd repetition).\n",
    "\n",
    "NOTE: There is no strong intensity for the 'neutral' emotion.\n",
    "Actor (01 to 24. Odd numbered actors are male, even numbered actors are female).\n"
   ]
  },
  {
   "cell_type": "markdown",
   "metadata": {},
   "source": [
    "## Process Flow"
   ]
  },
  {
   "cell_type": "markdown",
   "metadata": {},
   "source": [
    "This project can be done in these four steps\n",
    "1. Data processing: The collection and manipulation of items of data to produce meaningful information.\n",
    "2. Feature extraction: Feature extraction is a process of dimensionality reduction by which an initial set of raw data is reduced to more manageable groups for processing.\n",
    "3. Building a model: A Multi Layer Perceptron model is built for classifying the emotions. \n",
    "4. Testing the model: Testing the built model on a new set of data."
   ]
  },
  {
   "cell_type": "markdown",
   "metadata": {},
   "source": [
    "#### Importing the necessary libraries "
   ]
  },
  {
   "cell_type": "code",
   "execution_count": 3,
   "metadata": {},
   "outputs": [],
   "source": [
    "import os\n",
    "import glob\n",
    "import librosa\n",
    "import librosa.display\n",
    "import matplotlib.pyplot as plt\n",
    "import pandas as pd\n",
    "import numpy as np\n",
    "import IPython.display as ipd #for the audio signal display\n",
    "from sklearn.neural_network import MLPClassifier #Multi Layer Perceptron Classifier\n",
    "from sklearn.metrics import accuracy_score #For testing the accuracy of the model\n",
    "from sklearn.model_selection import train_test_split #Splitting the dataset\n",
    "from sklearn import metrics"
   ]
  },
  {
   "cell_type": "markdown",
   "metadata": {},
   "source": [
    "## Data Preparation"
   ]
  },
  {
   "cell_type": "markdown",
   "metadata": {},
   "source": [
    "The files in the data set are in the above mentioned format. So, these files should be extracted to a data frame along with the labels"
   ]
  },
  {
   "cell_type": "code",
   "execution_count": 5,
   "metadata": {},
   "outputs": [],
   "source": [
    "emotions={\n",
    "  '01':'neutral',\n",
    "  '02':'calm',\n",
    "  '03':'happy',\n",
    "  '04':'sad',\n",
    "  '05':'angry',\n",
    "  '06':'fearful',\n",
    "  '07':'disgust',\n",
    "  '08':'surprised'\n",
    "}\n",
    "gender=[]\n",
    "emotion=[]\n",
    "for file in glob.glob(\"C:/Users/Owner/Downloads/RAVDESS/Actor_*/*.wav\"):\n",
    "        file_name=os.path.basename(file) #grabbing the filename from the path\n",
    "        temp=emotions[file_name.split(\"-\")[2]] #grabbing the emotion from the filename\n",
    "        emotion.append(temp)\n",
    "        temp=int(file_name.split(\"-\")[5]) #grabbing the gender from the filename\n",
    "        if temp%2 == 0:\n",
    "            temp=\"female\"\n",
    "        else:\n",
    "            temp=\"male\"\n",
    "        gender.append(temp)"
   ]
  },
  {
   "cell_type": "code",
   "execution_count": 7,
   "metadata": {},
   "outputs": [
    {
     "data": {
      "text/html": [
       "<div>\n",
       "<style scoped>\n",
       "    .dataframe tbody tr th:only-of-type {\n",
       "        vertical-align: middle;\n",
       "    }\n",
       "\n",
       "    .dataframe tbody tr th {\n",
       "        vertical-align: top;\n",
       "    }\n",
       "\n",
       "    .dataframe thead th {\n",
       "        text-align: right;\n",
       "    }\n",
       "</style>\n",
       "<table border=\"1\" class=\"dataframe\">\n",
       "  <thead>\n",
       "    <tr style=\"text-align: right;\">\n",
       "      <th></th>\n",
       "      <th>gender</th>\n",
       "      <th>emotion</th>\n",
       "      <th>gender_emotion</th>\n",
       "    </tr>\n",
       "  </thead>\n",
       "  <tbody>\n",
       "    <tr>\n",
       "      <td>0</td>\n",
       "      <td>male</td>\n",
       "      <td>neutral</td>\n",
       "      <td>male_neutral</td>\n",
       "    </tr>\n",
       "    <tr>\n",
       "      <td>1</td>\n",
       "      <td>female</td>\n",
       "      <td>neutral</td>\n",
       "      <td>female_neutral</td>\n",
       "    </tr>\n",
       "    <tr>\n",
       "      <td>2</td>\n",
       "      <td>male</td>\n",
       "      <td>neutral</td>\n",
       "      <td>male_neutral</td>\n",
       "    </tr>\n",
       "    <tr>\n",
       "      <td>3</td>\n",
       "      <td>female</td>\n",
       "      <td>neutral</td>\n",
       "      <td>female_neutral</td>\n",
       "    </tr>\n",
       "    <tr>\n",
       "      <td>4</td>\n",
       "      <td>male</td>\n",
       "      <td>calm</td>\n",
       "      <td>male_calm</td>\n",
       "    </tr>\n",
       "  </tbody>\n",
       "</table>\n",
       "</div>"
      ],
      "text/plain": [
       "   gender  emotion  gender_emotion\n",
       "0    male  neutral    male_neutral\n",
       "1  female  neutral  female_neutral\n",
       "2    male  neutral    male_neutral\n",
       "3  female  neutral  female_neutral\n",
       "4    male     calm       male_calm"
      ]
     },
     "execution_count": 7,
     "metadata": {},
     "output_type": "execute_result"
    }
   ],
   "source": [
    "temp1=pd.DataFrame(emotion) #creating a temporary dataframe for emotion\n",
    "temp2=pd.DataFrame(gender) #creating a temporary dataframe for gender\n",
    "df=pd.concat([temp2,temp1],axis=1) #concatinating two dataframes\n",
    "df.columns=['gender','emotion']\n",
    "df['gender_emotion'] =df.gender + '_' + df.emotion #concatinating the gender and emotion\n",
    "df.head()"
   ]
  },
  {
   "cell_type": "code",
   "execution_count": 8,
   "metadata": {},
   "outputs": [
    {
     "name": "stdout",
     "output_type": "stream",
     "text": [
      "male_fearful        96\n",
      "male_calm           96\n",
      "male_sad            96\n",
      "female_happy        96\n",
      "female_disgust      96\n",
      "male_surprised      96\n",
      "female_sad          96\n",
      "female_fearful      96\n",
      "female_calm         96\n",
      "male_happy          96\n",
      "female_surprised    96\n",
      "male_disgust        96\n",
      "female_angry        96\n",
      "male_angry          96\n",
      "male_neutral        48\n",
      "female_neutral      48\n",
      "Name: gender_emotion, dtype: int64\n"
     ]
    }
   ],
   "source": [
    "print(df.gender_emotion.value_counts())"
   ]
  },
  {
   "cell_type": "markdown",
   "metadata": {},
   "source": [
    "## Feature extraction"
   ]
  },
  {
   "cell_type": "markdown",
   "metadata": {},
   "source": [
    "Let us consider a single audio signal and extract some features from that signal"
   ]
  },
  {
   "cell_type": "code",
   "execution_count": 9,
   "metadata": {},
   "outputs": [
    {
     "data": {
      "text/plain": [
       "Text(0.5, 1.0, 'Audio signal')"
      ]
     },
     "execution_count": 9,
     "metadata": {},
     "output_type": "execute_result"
    },
    {
     "data": {
      "image/png": "[encoded data removed]",
      "text/plain": [
       "<Figure size 432x288 with 1 Axes>"
      ]
     },
     "metadata": {
      "needs_background": "light"
     },
     "output_type": "display_data"
    }
   ],
   "source": [
    "voice,sr = librosa.load(\"C:/Users/Owner/Downloads/RAVDESS/Actor_01/03-01-01-01-01-01-01.wav\")\n",
    "librosa.display.waveplot(voice, sr=sr)\n",
    "plt.title('Audio signal')"
   ]
  },
  {
   "cell_type": "markdown",
   "metadata": {},
   "source": [
    "Librosa library is used to extract an audio signal from the .wav file.This is how an audio signal looks in time domain"
   ]
  },
  {
   "cell_type": "code",
   "execution_count": null,
   "metadata": {},
   "outputs": [],
   "source": []
  }
 ],
 "metadata": {
  "kernelspec": {
   "display_name": "Python 3",
   "language": "python",
   "name": "python3"
  },
  "language_info": {
   "codemirror_mode": {
    "name": "ipython",
    "version": 3
   },
   "file_extension": ".py",
   "mimetype": "text/x-python",
   "name": "python",
   "nbconvert_exporter": "python",
   "pygments_lexer": "ipython3",
   "version": "3.7.4"
  }
 },
 "nbformat": 4,
 "nbformat_minor": 2
}
